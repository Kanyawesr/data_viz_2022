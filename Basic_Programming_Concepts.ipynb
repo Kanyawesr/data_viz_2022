{
  "nbformat": 4,
  "nbformat_minor": 0,
  "metadata": {
    "colab": {
      "name": "Basic Programming Concepts.ipynb",
      "provenance": [],
      "toc_visible": true,
      "authorship_tag": "ABX9TyP4YsiOrc8pcvFaPoWyM/Gl",
      "include_colab_link": true
    },
    "kernelspec": {
      "name": "python3",
      "display_name": "Python 3"
    },
    "language_info": {
      "name": "python"
    }
  },
  "cells": [
    {
      "cell_type": "markdown",
      "metadata": {
        "id": "view-in-github",
        "colab_type": "text"
      },
      "source": [
        "<a href=\"https://colab.research.google.com/github/Kanyawesr/data_viz_2022/blob/main/Basic_Programming_Concepts.ipynb\" target=\"_parent\"><img src=\"https://colab.research.google.com/assets/colab-badge.svg\" alt=\"Open In Colab\"/></a>"
      ]
    },
    {
      "cell_type": "markdown",
      "source": [
        "# Functions ($f()$)"
      ],
      "metadata": {
        "id": "7esiv6emDgmA"
      }
    },
    {
      "cell_type": "markdown",
      "source": [
        "```python\n",
        "def function(input_x):\n",
        "    #do something wth input_x to get output_y\n",
        "    return output_y\n",
        "```\n"
      ],
      "metadata": {
        "id": "_puV-8iPEWYS"
      }
    },
    {
      "cell_type": "markdown",
      "source": [
        "$f(x)=x^2 + 75$"
      ],
      "metadata": {
        "id": "yLjpf0MSF6L4"
      }
    },
    {
      "cell_type": "code",
      "execution_count": 4,
      "metadata": {
        "colab": {
          "base_uri": "https://localhost:8080/"
        },
        "id": "uBojKN_vDfkV",
        "outputId": "62174e40-6407-4eec-a740-c3304f8cc0b2"
      },
      "outputs": [
        {
          "output_type": "stream",
          "name": "stdout",
          "text": [
            "done!\n"
          ]
        }
      ],
      "source": [
        "def function_f1(x): #เอา x มายกกำลัง 2 \n",
        "    a = x**2\n",
        "    y = a + 75      # xยกกำลัง 2 คือ a\n",
        "    return y\n",
        "\n",
        "print('done!') "
      ]
    },
    {
      "cell_type": "code",
      "source": [
        "function_f1(3) "
      ],
      "metadata": {
        "colab": {
          "base_uri": "https://localhost:8080/"
        },
        "id": "0D613JpWGWfu",
        "outputId": "e1e06381-ddf5-4b9f-e1c6-4e33fd62b3ca"
      },
      "execution_count": 3,
      "outputs": [
        {
          "output_type": "execute_result",
          "data": {
            "text/plain": [
              "84"
            ]
          },
          "metadata": {},
          "execution_count": 3
        }
      ]
    },
    {
      "cell_type": "markdown",
      "source": [
        "function มีส่วนสำคัญทั้งหมด 4 ส่วน\n",
        "\n",
        "\n",
        "1.   บอก python ว่าเราจะเขียนฟังก์ชั่น ชื่ออะไร def function_name(): (ขาดไม่ได้)\n",
        "2.   กำหนดตัวแปรที่จะเป็น input *_input_* (ขาดได้)\n",
        "3.   ส่วนประมวลผล do_something *input* to get *Output* (ขาดไม่ได้)\n",
        "4.   ส่วน output return *Output* (ขาดได้)\n"
      ],
      "metadata": {
        "id": "81107ub7HNBQ"
      }
    },
    {
      "cell_type": "markdown",
      "source": [
        "## ตัวอย่าง function ที่มีส่วนประกอบครบ"
      ],
      "metadata": {
        "id": "GaliOam3IKB9"
      }
    },
    {
      "cell_type": "code",
      "source": [
        "def function_f1(x):\n",
        "    a = x**2\n",
        "    y = a + 75\n",
        "    return y"
      ],
      "metadata": {
        "id": "cI7EJj1tGjQj"
      },
      "execution_count": 5,
      "outputs": []
    },
    {
      "cell_type": "markdown",
      "source": [
        "## ตัวอย่าง function ที่ ไม่มี input"
      ],
      "metadata": {
        "id": "8nyvtxnuIfs7"
      }
    },
    {
      "cell_type": "code",
      "source": [
        "def pi_v():\n",
        "    y = 3.14159265359\n",
        "    return y"
      ],
      "metadata": {
        "id": "m6fIiYdBId3V"
      },
      "execution_count": 6,
      "outputs": []
    },
    {
      "cell_type": "code",
      "source": [
        "piv = pi_v()\n",
        "circle_area_r2 = pi_v()*(2**2)\n",
        "print(circle_area_r2)"
      ],
      "metadata": {
        "colab": {
          "base_uri": "https://localhost:8080/"
        },
        "id": "IRCFWrPTIrxo",
        "outputId": "31f23c3e-b66e-433e-8551-58c928efb32e"
      },
      "execution_count": 8,
      "outputs": [
        {
          "output_type": "stream",
          "name": "stdout",
          "text": [
            "12.56637061436\n"
          ]
        }
      ]
    },
    {
      "cell_type": "markdown",
      "source": [
        "### Function ไม่มี process ไม่ได้"
      ],
      "metadata": {
        "id": "TZeelQepJNij"
      }
    },
    {
      "cell_type": "code",
      "source": [
        "def function_a(): #มีแค่ชื่อ function อย่างเดียวจะขึ้น error"
      ],
      "metadata": {
        "colab": {
          "base_uri": "https://localhost:8080/",
          "height": 130
        },
        "id": "9N8FTIZkI5Vq",
        "outputId": "57b7bb66-ca79-4442-f7a9-9d6b340ba8da"
      },
      "execution_count": 9,
      "outputs": [
        {
          "output_type": "error",
          "ename": "SyntaxError",
          "evalue": "ignored",
          "traceback": [
            "\u001b[0;36m  File \u001b[0;32m\"<ipython-input-9-8edffb8330bc>\"\u001b[0;36m, line \u001b[0;32m1\u001b[0m\n\u001b[0;31m    def function_a(): #มีแค่ชื่อ function อย่างเดียวจะขึ้น error\u001b[0m\n\u001b[0m                                                                ^\u001b[0m\n\u001b[0;31mSyntaxError\u001b[0m\u001b[0;31m:\u001b[0m unexpected EOF while parsing\n"
          ]
        }
      ]
    },
    {
      "cell_type": "markdown",
      "source": [
        "ตัวอย่าง Function ที่ไม่มี output "
      ],
      "metadata": {
        "id": "21AACAeDJYFx"
      }
    },
    {
      "cell_type": "code",
      "source": [
        "def print_name_id(name,id):\n",
        "    print(f'ชื่อ {name} รหัสประจำตัว {id}')"
      ],
      "metadata": {
        "id": "3mokNDfGJMpN"
      },
      "execution_count": 10,
      "outputs": []
    },
    {
      "cell_type": "code",
      "source": [
        "print_name_id('กัญญาวีร์','623020511-1') "
      ],
      "metadata": {
        "colab": {
          "base_uri": "https://localhost:8080/"
        },
        "id": "4xfABd-EJ1q7",
        "outputId": "313daf83-53c2-4b39-ffa4-f36a9d8bd5ba"
      },
      "execution_count": 14,
      "outputs": [
        {
          "output_type": "stream",
          "name": "stdout",
          "text": [
            "ชื่อ กัญญาวีร์ รหัสประจำตัว 623020511-1\n"
          ]
        }
      ]
    },
    {
      "cell_type": "code",
      "source": [
        "a = print_name_id('กัญญาวีร์','623020511-1') "
      ],
      "metadata": {
        "colab": {
          "base_uri": "https://localhost:8080/"
        },
        "id": "3DEBVeHzJ8-9",
        "outputId": "236e7cb2-c26c-4c0d-cbe9-7564c769a50b"
      },
      "execution_count": 15,
      "outputs": [
        {
          "output_type": "stream",
          "name": "stdout",
          "text": [
            "ชื่อ กัญญาวีร์ รหัสประจำตัว 623020511-1\n"
          ]
        }
      ]
    },
    {
      "cell_type": "code",
      "source": [
        "a # a ไม่ retur เพราะยังไม่มีค่าอะไรใส่เข้าไปเลย"
      ],
      "metadata": {
        "id": "57o7TF9jKiZG"
      },
      "execution_count": 17,
      "outputs": []
    },
    {
      "cell_type": "markdown",
      "source": [
        "ตัวอย่าง Function print https://www.programiz.com/python-programming/methods/built-in/print \n"
      ],
      "metadata": {
        "id": "XbA9TWNoO11x"
      }
    },
    {
      "cell_type": "code",
      "source": [
        "print('กัญญาวีร์')\n",
        "print('623020511-1')"
      ],
      "metadata": {
        "colab": {
          "base_uri": "https://localhost:8080/"
        },
        "id": "25QA7NLPPc2B",
        "outputId": "71d3ab3d-a11c-4e20-fad1-571bd3f7fcba"
      },
      "execution_count": 18,
      "outputs": [
        {
          "output_type": "stream",
          "name": "stdout",
          "text": [
            "กัญญาวีร์\n",
            "623020511-1\n"
          ]
        }
      ]
    },
    {
      "cell_type": "code",
      "source": [
        "print('กัญญาวีร์',end='->')\n",
        "print ('623020511-1')"
      ],
      "metadata": {
        "colab": {
          "base_uri": "https://localhost:8080/"
        },
        "id": "sOEwGtqUPrrb",
        "outputId": "fbcbd328-aa24-47e3-a961-cf31553af8fd"
      },
      "execution_count": 19,
      "outputs": [
        {
          "output_type": "stream",
          "name": "stdout",
          "text": [
            "กัญญาวีร์->623020511-1\n"
          ]
        }
      ]
    },
    {
      "cell_type": "code",
      "source": [
        "print('กัญญาวีร์','623020511-1')"
      ],
      "metadata": {
        "colab": {
          "base_uri": "https://localhost:8080/"
        },
        "id": "xgYLE-NoQPH7",
        "outputId": "1e97c160-df6e-4f62-9583-b41eb295ab21"
      },
      "execution_count": 20,
      "outputs": [
        {
          "output_type": "stream",
          "name": "stdout",
          "text": [
            "กัญญาวีร์ 623020511-1\n"
          ]
        }
      ]
    },
    {
      "cell_type": "code",
      "source": [
        "print('กัญญาวีร์','623020511-1',sep=' & ')"
      ],
      "metadata": {
        "colab": {
          "base_uri": "https://localhost:8080/"
        },
        "id": "6PN7EyE4QX7e",
        "outputId": "de2b47cf-e18f-47dd-f0f0-727dfa201e6d"
      },
      "execution_count": 21,
      "outputs": [
        {
          "output_type": "stream",
          "name": "stdout",
          "text": [
            "กัญญาวีร์ & 623020511-1\n"
          ]
        }
      ]
    },
    {
      "cell_type": "markdown",
      "source": [
        "## input ของ function แบ่งเป็น 2 ชนิด (จำเป็นต้องใส่ กับ ไม่จำเป็นต้องใส่)"
      ],
      "metadata": {
        "id": "DXX7oD1HQkne"
      }
    },
    {
      "cell_type": "markdown",
      "source": [
        "ตัวอย่าง function print_grade() มี input 3 ตัว จำเป็นต้องใส่ 2 ตัว คือ name กับ id และไม่จำเป็นต้องใส่ 1 ตัว คือเกรด ซึ่งมีค่า default เป็น F"
      ],
      "metadata": {
        "id": "epFK2j_cRPQ0"
      }
    },
    {
      "cell_type": "code",
      "source": [
        "def print_grade(name,d,grade = 'A'):\n",
        "    print(f'รหัสประจำตัว {id} ชื่อ {name}')\n",
        "    print(f'ได้เกรด {grade}')"
      ],
      "metadata": {
        "id": "4UZwXS5kQwH5"
      },
      "execution_count": 25,
      "outputs": []
    },
    {
      "cell_type": "code",
      "source": [
        "print_grade('นางสาวกัญญาวีร์ ศรีเทียมเงิน','623020511-1')"
      ],
      "metadata": {
        "colab": {
          "base_uri": "https://localhost:8080/"
        },
        "id": "GbpcUNJ0Ryex",
        "outputId": "96124621-2760-406e-d91c-c7fe45400ca9"
      },
      "execution_count": 26,
      "outputs": [
        {
          "output_type": "stream",
          "name": "stdout",
          "text": [
            "รหัสประจำตัว <built-in function id> ชื่อ นางสาวกัญญาวีร์ ศรีเทียมเงิน\n",
            "ได้เกรด A\n"
          ]
        }
      ]
    },
    {
      "cell_type": "code",
      "source": [
        "print_grade('นางสาวกัญญาวีร์ ศรีเทียมเงิน','623020511-1','B')"
      ],
      "metadata": {
        "colab": {
          "base_uri": "https://localhost:8080/"
        },
        "id": "2FZx3Qx_SHaU",
        "outputId": "2afccbb8-1895-45c8-e9b4-d4fbb38c7072"
      },
      "execution_count": 27,
      "outputs": [
        {
          "output_type": "stream",
          "name": "stdout",
          "text": [
            "รหัสประจำตัว <built-in function id> ชื่อ นางสาวกัญญาวีร์ ศรีเทียมเงิน\n",
            "ได้เกรด B\n"
          ]
        }
      ]
    },
    {
      "cell_type": "markdown",
      "source": [
        "# Looping (for)"
      ],
      "metadata": {
        "id": "2SgoT8oaOUf0"
      }
    },
    {
      "cell_type": "code",
      "source": [
        ""
      ],
      "metadata": {
        "id": "kK82M2RvKi-P"
      },
      "execution_count": null,
      "outputs": []
    }
  ]
}